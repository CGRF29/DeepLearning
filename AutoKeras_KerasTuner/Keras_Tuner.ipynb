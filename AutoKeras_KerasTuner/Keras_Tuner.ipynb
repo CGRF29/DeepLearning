{
  "cells": [
    {
      "cell_type": "markdown",
      "metadata": {},
      "source": [
        "### Keras Tuner"
      ]
    },
    {
      "cell_type": "markdown",
      "metadata": {},
      "source": [
        "        Código"
      ]
    },
    {
      "cell_type": "markdown",
      "metadata": {
        "id": "bwwqJY7BLXSD"
      },
      "source": [
        "#### Librerías"
      ]
    },
    {
      "cell_type": "code",
      "execution_count": null,
      "metadata": {
        "id": "IUbcfn0fuYY_"
      },
      "outputs": [],
      "source": [
        "pip install keras-tuner"
      ]
    },
    {
      "cell_type": "code",
      "execution_count": 15,
      "metadata": {
        "colab": {
          "base_uri": "https://localhost:8080/"
        },
        "id": "OKT6teBTYcAM",
        "outputId": "bbea671c-f0b0-400a-b57b-3f3521864438"
      },
      "outputs": [
        {
          "name": "stdout",
          "output_type": "stream",
          "text": [
            "Mounted at /content/drive\n"
          ]
        }
      ],
      "source": [
        "from kerastuner import HyperModel\n",
        "from tensorflow import keras\n",
        "from tensorflow.keras import layers\n",
        "from kerastuner.tuners import RandomSearch\n",
        "from keras.layers import BatchNormalization, Dense, Dropout, Flatten, Conv2D, MaxPooling2D\n",
        "from tensorflow.keras.layers import Dense, Conv2D, Activation, Flatten, MaxPooling2D\n",
        "from keras.layers.core import Dropout, Lambda\n",
        "from keras.layers.merge import concatenate\n",
        "from keras.layers.convolutional import Conv2D, Conv2DTranspose, DepthwiseConv2D\n",
        "import sys, os, zipfile, glob, cv2\n",
        "import numpy as np, pandas as pd, seaborn as sns, matplotlib.pyplot as plt\n",
        "import h5py, keras\n",
        "import tensorflow as tf\n",
        "from google.colab import drive\n",
        "drive.mount('/content/drive', force_remount=True)\n",
        "from tqdm import tqdm\n",
        "from sklearn.utils import shuffle\n",
        "from sklearn.metrics import classification_report, confusion_matrix\n",
        "from sklearn.metrics import ConfusionMatrixDisplay\n",
        "from sklearn.model_selection import train_test_split\n",
        "from tensorflow.keras.utils import to_categorical\n",
        "from tensorflow.keras.optimizers import Adagrad, Adam"
      ]
    },
    {
      "cell_type": "markdown",
      "metadata": {
        "id": "bq99LOyTNTMQ"
      },
      "source": [
        "Antes de comenzar la búsqueda, preparemos el conjunto de datos "
      ]
    },
    {
      "cell_type": "markdown",
      "metadata": {
        "id": "f00liX-YMxRb"
      },
      "source": [
        "#### Base de datos"
      ]
    },
    {
      "cell_type": "code",
      "execution_count": 16,
      "metadata": {
        "id": "JT79LhrOMv9A"
      },
      "outputs": [],
      "source": [
        "path_h5 = '/content/drive/MyDrive/Colab Notebooks/Deep Learning/'"
      ]
    },
    {
      "cell_type": "code",
      "execution_count": 17,
      "metadata": {
        "colab": {
          "base_uri": "https://localhost:8080/"
        },
        "id": "dmhjkBhOM7_u",
        "outputId": "d9fb2c1d-054a-48d4-8633-e7f02a233391"
      },
      "outputs": [
        {
          "name": "stdout",
          "output_type": "stream",
          "text": [
            "--2022-03-28 03:04:22--  https://www.dropbox.com/s/0j7s080efbfh8gc/cats_and_dogs_small.zip?dl=0\n",
            "Resolving www.dropbox.com (www.dropbox.com)... 162.125.65.18, 2620:100:6027:18::a27d:4812\n",
            "Connecting to www.dropbox.com (www.dropbox.com)|162.125.65.18|:443... connected.\n",
            "HTTP request sent, awaiting response... 301 Moved Permanently\n",
            "Location: /s/raw/0j7s080efbfh8gc/cats_and_dogs_small.zip [following]\n",
            "--2022-03-28 03:04:22--  https://www.dropbox.com/s/raw/0j7s080efbfh8gc/cats_and_dogs_small.zip\n",
            "Reusing existing connection to www.dropbox.com:443.\n",
            "HTTP request sent, awaiting response... 302 Found\n",
            "Location: https://uce5f3a427ea77ff4e5b44dee60f.dl.dropboxusercontent.com/cd/0/inline/BiQTFTRuelVZOCILrQ1kHqouw0WiAcU7hZmri4nUIm7r2c9m2D24Ks1N2u7ngzaqY2FiCmDNgIzFBq9wyiHtDPu3ZDeQ24rDQqjQjViJHvF8EzlhdcTQ4NhS09LgQuv1uegRSwScBrTyBbhISiYzoGG9MxP5yVKOeIy4bLRWvILLGg/file# [following]\n",
            "--2022-03-28 03:04:23--  https://uce5f3a427ea77ff4e5b44dee60f.dl.dropboxusercontent.com/cd/0/inline/BiQTFTRuelVZOCILrQ1kHqouw0WiAcU7hZmri4nUIm7r2c9m2D24Ks1N2u7ngzaqY2FiCmDNgIzFBq9wyiHtDPu3ZDeQ24rDQqjQjViJHvF8EzlhdcTQ4NhS09LgQuv1uegRSwScBrTyBbhISiYzoGG9MxP5yVKOeIy4bLRWvILLGg/file\n",
            "Resolving uce5f3a427ea77ff4e5b44dee60f.dl.dropboxusercontent.com (uce5f3a427ea77ff4e5b44dee60f.dl.dropboxusercontent.com)... 162.125.65.15, 2620:100:6021:15::a27d:410f\n",
            "Connecting to uce5f3a427ea77ff4e5b44dee60f.dl.dropboxusercontent.com (uce5f3a427ea77ff4e5b44dee60f.dl.dropboxusercontent.com)|162.125.65.15|:443... connected.\n",
            "HTTP request sent, awaiting response... 302 Found\n",
            "Location: /cd/0/inline2/BiSek8rOMRA20Zoo0qtjaQGoY6e-cB-FmoUY3NIFu77mmYxR9pf_Zyq2eMgjBWgPZ3HQxbWx3vZLf0PuWXnJdJOinjKWSZ0nx1Gj_mkEdZFU_9EFKlll8JRyeA9xJ91600XTSzGUTuJ6r9rR0d6kUsS9YNB8YmpuvDI-5tfI1gXysU3DZZnyp9EY9uLPxTGY5doDGXnIbF3-Pp-XJvwWrmyv2BIKuEkv77zMO2WXAW1k0N7-m7jXphvuygYI8Hbx9HXWTMhTFowkPiSn_ocV1s4eK7A5Jx5LHch8fB55nfycD0JOahs1EizVJmSM9oZVeStZAoxkk8mA-KwoI4V5kswLSGZRx9ZxCqf2O6BbOuha4raI-fgVuRId9PJQvyszeIKkF6zu_UATnm0Iy3WdGaGF53U_WnbGV8b7roOQrmu-Fg/file [following]\n",
            "--2022-03-28 03:04:23--  https://uce5f3a427ea77ff4e5b44dee60f.dl.dropboxusercontent.com/cd/0/inline2/BiSek8rOMRA20Zoo0qtjaQGoY6e-cB-FmoUY3NIFu77mmYxR9pf_Zyq2eMgjBWgPZ3HQxbWx3vZLf0PuWXnJdJOinjKWSZ0nx1Gj_mkEdZFU_9EFKlll8JRyeA9xJ91600XTSzGUTuJ6r9rR0d6kUsS9YNB8YmpuvDI-5tfI1gXysU3DZZnyp9EY9uLPxTGY5doDGXnIbF3-Pp-XJvwWrmyv2BIKuEkv77zMO2WXAW1k0N7-m7jXphvuygYI8Hbx9HXWTMhTFowkPiSn_ocV1s4eK7A5Jx5LHch8fB55nfycD0JOahs1EizVJmSM9oZVeStZAoxkk8mA-KwoI4V5kswLSGZRx9ZxCqf2O6BbOuha4raI-fgVuRId9PJQvyszeIKkF6zu_UATnm0Iy3WdGaGF53U_WnbGV8b7roOQrmu-Fg/file\n",
            "Reusing existing connection to uce5f3a427ea77ff4e5b44dee60f.dl.dropboxusercontent.com:443.\n",
            "HTTP request sent, awaiting response... 200 OK\n",
            "Length: 90960154 (87M) [application/zip]\n",
            "Saving to: ‘cats_and_dogs_small.zip’\n",
            "\n",
            "cats_and_dogs_small 100%[===================>]  86.75M  26.6MB/s    in 3.3s    \n",
            "\n",
            "2022-03-28 03:04:27 (26.6 MB/s) - ‘cats_and_dogs_small.zip’ saved [90960154/90960154]\n",
            "\n"
          ]
        }
      ],
      "source": [
        "!wget --no-check-certificate \\\n",
        "   https://www.dropbox.com/s/0j7s080efbfh8gc/cats_and_dogs_small.zip?dl=0\\\n",
        "   -O cats_and_dogs_small.zip\n",
        "\n",
        "local_zip = 'cats_and_dogs_small.zip'\n",
        "zip_ref = zipfile.ZipFile(local_zip, 'r')\n",
        "zip_ref.extractall('')\n",
        "zip_ref.close()"
      ]
    },
    {
      "cell_type": "markdown",
      "metadata": {
        "id": "Nkahz-iHM8x6"
      },
      "source": [
        "#### Pre procesamiento"
      ]
    },
    {
      "cell_type": "code",
      "execution_count": 18,
      "metadata": {
        "colab": {
          "base_uri": "https://localhost:8080/"
        },
        "id": "PvpVcWI5NAWz",
        "outputId": "1aa58909-5c7a-4d62-c19c-62f1dc2744ae"
      },
      "outputs": [
        {
          "name": "stderr",
          "output_type": "stream",
          "text": [
            "100%|██████████| 2/2 [00:14<00:00,  7.08s/it]\n"
          ]
        }
      ],
      "source": [
        "# Lectura de imagenes\n",
        "categorias = ['cats', 'dogs']\n",
        "X = []\n",
        "Y = []\n",
        "for categoria in tqdm(categorias):  \n",
        "  ruta_imgs = glob.glob('./cats_and_dogs_small/'+ categoria +'/*.jpg')\n",
        "  for ruta_img in ruta_imgs:\n",
        "    img = cv2.resize(cv2.imread(ruta_img), (150, 150))\n",
        "    X.append(img)\n",
        "    if categoria == 'cats':\n",
        "      Y.append(0)\n",
        "    else:\n",
        "      Y.append(1)\n",
        "\n",
        "# Asignacion de variables X e Y\n",
        "X = np.asarray(X).astype('uint8')\n",
        "Y = np.expand_dims(np.asarray(Y).astype('uint8'),axis =1)\n",
        "#print(type(X[0,0,0,0]), X.shape)\n",
        "#print(type(Y[0,0]), Y.shape)\n",
        "#print(len(X))\n",
        "#print(len(Y))\n",
        "#print(Y)\n",
        "\n",
        "# Aleatorizar variables\n",
        "X,Y = shuffle(X,Y)\n",
        "#print(Y)\n",
        "\n",
        "# Escritura y lectura de archivo HDF5\n",
        "with h5py.File(path_h5 + 'dataset_cat_dogs.hdf5', 'w') as hf:\n",
        "    x = hf.create_dataset('X', data = X, shape = X.shape, compression = 'gzip', compression_opts = 9,chunks = True)\n",
        "    y = hf.create_dataset('Y', data = Y, shape = Y.shape, compression = 'gzip', compression_opts = 9,chunks = True)\n",
        "\n",
        "with h5py.File(path_h5 + 'dataset_cat_dogs.hdf5', 'r') as hf:\n",
        "    X = hf['X'][:]\n",
        "    Y = hf['Y'][:]\n",
        "#print('Conjunto de datos en X:',X.shape)\n",
        "#print('Conjunto de datos en Y:',Y.shape)\n",
        "\n",
        "# Normalizacion\n",
        "X=X.astype('float32')\n",
        "X/=255.0\n",
        "#Y = to_categorical(Y)\n",
        "\n",
        "# Regla 60/20/20\n",
        "x_train, x_test, y_train, y_test = train_test_split(X, Y, train_size = 0.8)\n",
        "x_train, x_val, y_train, y_val = train_test_split(x_train, y_train, train_size = 0.75)\n",
        "#print( x_train.shape, x_val.shape, x_test.shape)\n",
        "#print( y_train.shape, y_val.shape, y_test.shape)"
      ]
    },
    {
      "cell_type": "markdown",
      "metadata": {
        "id": "QnqNuB6mMaX4"
      },
      "source": [
        "#### Hipermodelo"
      ]
    },
    {
      "cell_type": "code",
      "execution_count": 19,
      "metadata": {
        "id": "d_XSwd0VmX1e"
      },
      "outputs": [],
      "source": [
        "class MiHiperModelo(HyperModel):\n",
        "\n",
        "    def __init__(self, num_classes):\n",
        "        self.num_classes = num_classes\n",
        "\n",
        "    def build(self, hp):\n",
        "        model = keras.Sequential()\n",
        "        \n",
        "        kernel_size1 = hp.Choice('kernel_size1', values=[3,5,7]) \n",
        "        strides1 = hp.Choice('strides1', values=[1, 2]) \n",
        "        pool_size1 = hp.Choice('pool_size1', values=[2, 4]) \n",
        "        #kernel_size2 = hp.Choice('kernel_size2', values=[1, 2, 3]) \n",
        "        #pool_size2 = hp.Choice('strides1', values=[2, 3, 4]) \n",
        "\n",
        "\n",
        "        model.add(Conv2D(filters=hp.Int('filters1',\n",
        "                                        min_value=32,\n",
        "                                        max_value=1024,\n",
        "                                        step=32,\n",
        "                                        default=1024),\n",
        "                                        kernel_size = (kernel_size1, kernel_size1), \n",
        "                                        strides = (strides1, strides1),\n",
        "                                        padding = 'valid',  \n",
        "                                        activation=hp.Choice('activation', values=['relu', 'tanh']) ))\n",
        "\n",
        "        model.add(Conv2D(filters=hp.Int('filters2',\n",
        "                                        min_value=64,\n",
        "                                        max_value=512,\n",
        "                                        step=64,\n",
        "                                        default=512),\n",
        "                                        kernel_size = (kernel_size1, kernel_size1), \n",
        "                                        strides = (strides1, strides1),   \n",
        "                                        padding = 'valid',  \n",
        "                                        activation=hp.Choice('activation', values=['relu', 'tanh']) ))\n",
        "\n",
        "\n",
        "        model.add(MaxPooling2D( pool_size=(pool_size1, pool_size1)))    \n",
        "\n",
        "        model.add(Dropout(0.5))\n",
        "\n",
        "        model.add(Flatten())\n",
        "\n",
        "        model.add(Dropout(0.5))\n",
        "\n",
        "        model.add(layers.Dense(self.num_classes, activation='softmax'))\n",
        "\n",
        "        model.compile(\n",
        "            optimizer=Adam(\n",
        "                hp.Choice('learning_rate',\n",
        "                          values=[ 1e-4])),\n",
        "            loss='sparse_categorical_crossentropy',\n",
        "            metrics=['accuracy'])\n",
        "        \n",
        "        \n",
        "        return model\n"
      ]
    },
    {
      "cell_type": "markdown",
      "metadata": {
        "id": "iZX6J9vib77G"
      },
      "source": [
        "Para inicializar el sintonizador, necesitamos especificar varios argumentos en el inicializador.\n"
      ]
    },
    {
      "cell_type": "code",
      "execution_count": 20,
      "metadata": {
        "colab": {
          "base_uri": "https://localhost:8080/"
        },
        "id": "LckvahFmYMSM",
        "outputId": "cee18685-9692-465e-fba6-5f1ac7a253d6"
      },
      "outputs": [
        {
          "name": "stdout",
          "output_type": "stream",
          "text": [
            "INFO:tensorflow:Reloading Oracle from existing project my_dir/helloworld6/oracle.json\n",
            "INFO:tensorflow:Reloading Tuner from my_dir/helloworld6/tuner0.json\n",
            "Search space summary\n",
            "Default search space size: 7\n",
            "kernel_size1 (Choice)\n",
            "{'default': 3, 'conditions': [], 'values': [3, 5, 7], 'ordered': True}\n",
            "strides1 (Choice)\n",
            "{'default': 1, 'conditions': [], 'values': [1, 2], 'ordered': True}\n",
            "pool_size1 (Choice)\n",
            "{'default': 2, 'conditions': [], 'values': [2, 4], 'ordered': True}\n",
            "filters1 (Int)\n",
            "{'default': 1024, 'conditions': [], 'min_value': 32, 'max_value': 1024, 'step': 32, 'sampling': None}\n",
            "activation (Choice)\n",
            "{'default': 'relu', 'conditions': [], 'values': ['relu', 'tanh'], 'ordered': False}\n",
            "filters2 (Int)\n",
            "{'default': 512, 'conditions': [], 'min_value': 64, 'max_value': 512, 'step': 64, 'sampling': None}\n",
            "learning_rate (Choice)\n",
            "{'default': 0.0001, 'conditions': [], 'values': [0.0001], 'ordered': True}\n"
          ]
        }
      ],
      "source": [
        "hypermodel = MiHiperModelo(num_classes=2)\n",
        "\n",
        "tuner = RandomSearch(\n",
        "    hypermodel,\n",
        "    objective='val_accuracy',\n",
        "    max_trials=5, #representa la cantidad de combinaciones de hiperparámetros que probará el sintonizador\n",
        "    executions_per_trial = 1, #cantidad de modelos que se deben construir y ajustar para cada prueba con fines de robustez.\n",
        "    directory='my_dir',\n",
        "    project_name='helloworld6')\n",
        "\n",
        "tuner.search_space_summary()"
      ]
    },
    {
      "cell_type": "markdown",
      "metadata": {
        "id": "QPWsMbBdb3JO"
      },
      "source": [
        "Puede imprimir un resumen del espacio de búsqueda:\n"
      ]
    },
    {
      "cell_type": "code",
      "execution_count": 21,
      "metadata": {
        "colab": {
          "base_uri": "https://localhost:8080/"
        },
        "id": "3-_dZFM6YOXP",
        "outputId": "1e44eabe-0202-4957-8b40-da2354e30e17"
      },
      "outputs": [
        {
          "name": "stdout",
          "output_type": "stream",
          "text": [
            "Results summary\n",
            "Results in my_dir/helloworld6\n",
            "Showing 10 best trials\n",
            "<keras_tuner.engine.objective.Objective object at 0x7fa3600f8890>\n",
            "Trial summary\n",
            "Hyperparameters:\n",
            "kernel_size1: 3\n",
            "strides1: 1\n",
            "pool_size1: 2\n",
            "filters1: 192\n",
            "activation: relu\n",
            "filters2: 256\n",
            "learning_rate: 0.0001\n",
            "Score: 0.7350000143051147\n",
            "Trial summary\n",
            "Hyperparameters:\n",
            "kernel_size1: 3\n",
            "strides1: 1\n",
            "pool_size1: 4\n",
            "filters1: 288\n",
            "activation: tanh\n",
            "filters2: 256\n",
            "learning_rate: 0.0001\n",
            "Score: 0.7275000214576721\n",
            "Trial summary\n",
            "Hyperparameters:\n",
            "kernel_size1: 3\n",
            "strides1: 1\n",
            "pool_size1: 4\n",
            "filters1: 416\n",
            "activation: tanh\n",
            "filters2: 128\n",
            "learning_rate: 0.0001\n",
            "Score: 0.7137500047683716\n",
            "Trial summary\n",
            "Hyperparameters:\n",
            "kernel_size1: 3\n",
            "strides1: 2\n",
            "pool_size1: 4\n",
            "filters1: 704\n",
            "activation: tanh\n",
            "filters2: 384\n",
            "learning_rate: 0.0001\n",
            "Score: 0.7049999833106995\n",
            "Trial summary\n",
            "Hyperparameters:\n",
            "kernel_size1: 7\n",
            "strides1: 1\n",
            "pool_size1: 4\n",
            "filters1: 480\n",
            "activation: tanh\n",
            "filters2: 384\n",
            "learning_rate: 0.0001\n",
            "Score: 0.6987500190734863\n",
            "Trial summary\n",
            "Hyperparameters:\n",
            "kernel_size1: 7\n",
            "strides1: 1\n",
            "pool_size1: 4\n",
            "filters1: 800\n",
            "activation: tanh\n",
            "filters2: 448\n",
            "learning_rate: 0.0001\n",
            "Score: 0.6924999952316284\n",
            "Trial summary\n",
            "Hyperparameters:\n",
            "kernel_size1: 7\n",
            "strides1: 2\n",
            "pool_size1: 2\n",
            "filters1: 608\n",
            "activation: tanh\n",
            "filters2: 384\n",
            "learning_rate: 0.0001\n",
            "Score: 0.6837499737739563\n",
            "Trial summary\n",
            "Hyperparameters:\n",
            "kernel_size1: 5\n",
            "strides1: 2\n",
            "pool_size1: 2\n",
            "filters1: 608\n",
            "activation: tanh\n",
            "filters2: 128\n",
            "learning_rate: 0.0001\n",
            "Score: 0.6712499856948853\n",
            "Trial summary\n",
            "Hyperparameters:\n",
            "kernel_size1: 7\n",
            "strides1: 1\n",
            "pool_size1: 4\n",
            "filters1: 64\n",
            "activation: tanh\n",
            "filters2: 64\n",
            "learning_rate: 0.0001\n",
            "Score: 0.6675000190734863\n",
            "Trial summary\n",
            "Hyperparameters:\n",
            "kernel_size1: 7\n",
            "strides1: 1\n",
            "pool_size1: 2\n",
            "filters1: 64\n",
            "activation: tanh\n",
            "filters2: 192\n",
            "learning_rate: 0.0001\n",
            "Score: 0.6274999976158142\n"
          ]
        }
      ],
      "source": [
        "tuner.results_summary()"
      ]
    },
    {
      "cell_type": "markdown",
      "metadata": {
        "id": "n_8ot0H1NiVA"
      },
      "source": [
        "#### Búsqueda"
      ]
    },
    {
      "cell_type": "markdown",
      "metadata": {
        "id": "JCRU98nMdWlm"
      },
      "source": [
        "inicie la búsqueda de la mejor configuración de hiperparámetros"
      ]
    },
    {
      "cell_type": "code",
      "execution_count": 22,
      "metadata": {
        "colab": {
          "base_uri": "https://localhost:8080/"
        },
        "id": "ZDQXMIiVdX9h",
        "outputId": "3a03fd77-8087-404e-d8b8-8116cb5e527a"
      },
      "outputs": [
        {
          "name": "stdout",
          "output_type": "stream",
          "text": [
            "INFO:tensorflow:Oracle triggered exit\n"
          ]
        }
      ],
      "source": [
        "tuner.search(x_train, y_train, epochs=10, validation_data=(x_val, y_val))"
      ]
    },
    {
      "cell_type": "markdown",
      "metadata": {
        "id": "ewMY4tbZdi92"
      },
      "source": [
        "Durante el search, la función de creación de modelos se llama con diferentes valores de hiperparámetro en diferentes pruebas. En cada prueba, el sintonizador generaría un nuevo conjunto de valores de hiperparámetros para construir el modelo. Luego se ajusta y evalúa el modelo. Las métricas se registran. El sintonizador explora progresivamente el espacio y finalmente encuentra un buen conjunto de valores de hiperparámetros.\n",
        "\n"
      ]
    },
    {
      "cell_type": "code",
      "execution_count": 23,
      "metadata": {
        "id": "zJhhAPUjYQLZ"
      },
      "outputs": [],
      "source": [
        "best_model = tuner.get_best_models(num_models=1)[0]"
      ]
    },
    {
      "cell_type": "code",
      "execution_count": 24,
      "metadata": {
        "id": "r17dMIHxYR2N"
      },
      "outputs": [],
      "source": [
        "best_model.build((None, 150, 150,3))"
      ]
    },
    {
      "cell_type": "markdown",
      "metadata": {
        "id": "EDcDNvZfd18W"
      },
      "source": [
        "También puede imprimir un resumen de los resultados de la búsqueda.\n",
        "\n"
      ]
    },
    {
      "cell_type": "code",
      "execution_count": 25,
      "metadata": {
        "colab": {
          "base_uri": "https://localhost:8080/"
        },
        "id": "LZkOjMRjd2aJ",
        "outputId": "12684ced-8277-4210-e6de-2a1a4fdd912c"
      },
      "outputs": [
        {
          "name": "stdout",
          "output_type": "stream",
          "text": [
            "Model: \"sequential\"\n",
            "_________________________________________________________________\n",
            " Layer (type)                Output Shape              Param #   \n",
            "=================================================================\n",
            " conv2d (Conv2D)             (None, 148, 148, 192)     5376      \n",
            "                                                                 \n",
            " conv2d_1 (Conv2D)           (None, 146, 146, 256)     442624    \n",
            "                                                                 \n",
            " max_pooling2d (MaxPooling2D  (None, 73, 73, 256)      0         \n",
            " )                                                               \n",
            "                                                                 \n",
            " dropout (Dropout)           (None, 73, 73, 256)       0         \n",
            "                                                                 \n",
            " flatten (Flatten)           (None, 1364224)           0         \n",
            "                                                                 \n",
            " dropout_1 (Dropout)         (None, 1364224)           0         \n",
            "                                                                 \n",
            " dense (Dense)               (None, 2)                 2728450   \n",
            "                                                                 \n",
            "=================================================================\n",
            "Total params: 3,176,450\n",
            "Trainable params: 3,176,450\n",
            "Non-trainable params: 0\n",
            "_________________________________________________________________\n"
          ]
        }
      ],
      "source": [
        "best_model.summary()"
      ]
    },
    {
      "cell_type": "code",
      "execution_count": 26,
      "metadata": {
        "colab": {
          "base_uri": "https://localhost:8080/"
        },
        "id": "E_0F4BJlYTuw",
        "outputId": "bf8c9fb6-a064-47c7-93a5-6a8a7005156c"
      },
      "outputs": [
        {
          "name": "stdout",
          "output_type": "stream",
          "text": [
            "25/25 [==============================] - 2s 60ms/step - loss: 0.3169 - accuracy: 0.8800\n"
          ]
        }
      ],
      "source": [
        "loss, accuracy = best_model.evaluate(x_test, y_test)"
      ]
    },
    {
      "cell_type": "code",
      "execution_count": 27,
      "metadata": {
        "id": "aBPbRPh1ptHn"
      },
      "outputs": [],
      "source": [
        "y_pred = np.argmax(best_model.predict(x_test), axis=1)"
      ]
    },
    {
      "cell_type": "code",
      "execution_count": 28,
      "metadata": {
        "colab": {
          "base_uri": "https://localhost:8080/",
          "height": 580
        },
        "id": "wPtNvzHkpgtv",
        "outputId": "637d66e4-e69d-499d-e0f6-45f208e92b04"
      },
      "outputs": [
        {
          "data": {
            "image/png": "[encoded data removed]",
            "text/plain": [
              "<Figure size 720x720 with 2 Axes>"
            ]
          },
          "metadata": {
            "needs_background": "light"
          },
          "output_type": "display_data"
        }
      ],
      "source": [
        "from sklearn.metrics import ConfusionMatrixDisplay\n",
        "from sklearn.metrics import classification_report, confusion_matrix\n",
        "fig, ax = plt.subplots(figsize=(10, 10))\n",
        "cm = confusion_matrix(np.argmax(y_test, axis=1), y_pred)\n",
        "disp = ConfusionMatrixDisplay(confusion_matrix=cm, display_labels = [0,1])\n",
        "disp = disp.plot(ax=ax,cmap=plt.cm.Blues)\n",
        "ax.set_title(\"Confusion Matrix\")\n",
        "plt.show()"
      ]
    },
    {
      "cell_type": "code",
      "execution_count": 29,
      "metadata": {
        "colab": {
          "base_uri": "https://localhost:8080/"
        },
        "id": "F4JFkG6Spdc7",
        "outputId": "3e1e98b9-c8f5-45a4-c965-3d6d42ee1895"
      },
      "outputs": [
        {
          "name": "stdout",
          "output_type": "stream",
          "text": [
            "              precision    recall  f1-score   support\n",
            "\n",
            "        cats       1.00      0.55      0.71       800\n",
            "        dogs       0.00      0.00      0.00         0\n",
            "\n",
            "    accuracy                           0.55       800\n",
            "   macro avg       0.50      0.27      0.35       800\n",
            "weighted avg       1.00      0.55      0.71       800\n",
            "\n"
          ]
        },
        {
          "name": "stderr",
          "output_type": "stream",
          "text": [
            "/usr/local/lib/python3.7/dist-packages/sklearn/metrics/_classification.py:1318: UndefinedMetricWarning: Recall and F-score are ill-defined and being set to 0.0 in labels with no true samples. Use `zero_division` parameter to control this behavior.\n",
            "  _warn_prf(average, modifier, msg_start, len(result))\n",
            "/usr/local/lib/python3.7/dist-packages/sklearn/metrics/_classification.py:1318: UndefinedMetricWarning: Recall and F-score are ill-defined and being set to 0.0 in labels with no true samples. Use `zero_division` parameter to control this behavior.\n",
            "  _warn_prf(average, modifier, msg_start, len(result))\n",
            "/usr/local/lib/python3.7/dist-packages/sklearn/metrics/_classification.py:1318: UndefinedMetricWarning: Recall and F-score are ill-defined and being set to 0.0 in labels with no true samples. Use `zero_division` parameter to control this behavior.\n",
            "  _warn_prf(average, modifier, msg_start, len(result))\n"
          ]
        }
      ],
      "source": [
        "reporte = classification_report(np.argmax(y_test, axis=1), y_pred,target_names = categorias)\n",
        "print(reporte)"
      ]
    },
    {
      "cell_type": "markdown",
      "metadata": {
        "id": "VFtRz-S3No_R"
      },
      "source": [
        "### Referencias"
      ]
    },
    {
      "cell_type": "markdown",
      "metadata": {
        "id": "PsFK_kyZNrKf"
      },
      "source": [
        "DigitalSreeni (s.f) Trucos de consejos 20: comprensión del aprendizaje de transferencia para diferentes tamaños y entradas de canal. Recuperado el día 26 de Marzo de 2022 de https://www.youtube.com/watch?v=5kbpoIQUB4Q\n",
        "\n",
        "fchollet(2021) simple MNIST convnet. Recuperado el día 26 de Marzo de 2022 de https://keras.io/examples/vision/mnist_convnet/\n",
        "\n",
        "Hebbar, N. (2020) Keras Tuner Hyperparameter Tuning for Neural Networks in Minutes. Recuperado el 27 de Marzo de 2022 de https://www.youtube.com/watch?v=Clo1HKB50Ug\n",
        "\n",
        "Jin, H (2021) Visualice el proceso de ajuste de hiperparámetros. Recuperado el día 26 de Marzo de 2022 de https://keras.io/guides/keras_tuner/visualize_tuning/\n",
        "\n",
        "sentdex (2019) Optimización de estructuras de redes neuronales con Keras-Tuner. Recuperado el 26 de Marzo de 2022 de https://www.youtube.com/watch?v=vvC15l4CY1Q"
      ]
    }
  ],
  "metadata": {
    "accelerator": "GPU",
    "colab": {
      "collapsed_sections": [
        "f00liX-YMxRb",
        "Nkahz-iHM8x6"
      ],
      "name": "Keras_tuner.ipynb",
      "provenance": []
    },
    "kernelspec": {
      "display_name": "Python 3",
      "name": "python3"
    },
    "language_info": {
      "name": "python"
    }
  },
  "nbformat": 4,
  "nbformat_minor": 0
}
