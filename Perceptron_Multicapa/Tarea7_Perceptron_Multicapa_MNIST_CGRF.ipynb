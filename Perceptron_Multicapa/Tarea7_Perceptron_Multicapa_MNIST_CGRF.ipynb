{
  "cells": [
    {
      "cell_type": "markdown",
      "metadata": {
        "id": "3YMA33MrKPDM"
      },
      "source": [
        "### Diseñar una red que clasifique el dataset MNIST"
      ]
    },
    {
      "cell_type": "markdown",
      "metadata": {},
      "source": [
        "        Introducción\n",
        "<div style=\"text-align: justify;\">\n",
        "La presente tarea se enfoca en analizar la implementación de la red Perceptron Multicapa por medio de la librería TensorFlow. La base de datos a utilizar es la base de datos MNIST, la cual fue obtenida de la librería de tensorflow. Está librería está compuesta por un conjunto de entrenamiento de 60,000 y un conjunto de prueba de 10,000.\n",
        "</div>"
      ]
    },
    {
      "cell_type": "markdown",
      "metadata": {},
      "source": [
        "        Justificación\n",
        "<div style=\"text-align: justify;\">\n",
        "La realización de esta tarea, brinda al estudiante una mejor comprensión sobre la arquitectura de la red Perceptron multicapa. El desarrollo del Perceptron llevó a la generación de un nuevo tipo de red, cuya principal característica es el uso de varias capas, así bien la implementación de la función de activación sigmoide. Este tipo de redes se utiliza usualmente para resolver problemas de asociación de patrones, segmentación de imágenes, comprensión de datos, etc.\n",
        "</div>"
      ]
    },
    {
      "cell_type": "markdown",
      "metadata": {},
      "source": [
        "        Código"
      ]
    },
    {
      "cell_type": "code",
      "execution_count": null,
      "metadata": {
        "id": "rQLI5F7yKY0z"
      },
      "outputs": [],
      "source": [
        "##Librerias\n",
        "import tensorflow as tf\n",
        "from sklearn.model_selection import train_test_split\n",
        "from tensorflow.keras.utils import to_categorical\n",
        "from tensorflow.keras.models import Sequential\n",
        "from tensorflow.keras.layers import Dense\n",
        "import numpy as np\n",
        "import matplotlib.pyplot as plt"
      ]
    },
    {
      "cell_type": "markdown",
      "metadata": {
        "id": "gJKT1AOgLn0z"
      },
      "source": [
        "Importar base de datos MNIST"
      ]
    },
    {
      "cell_type": "code",
      "execution_count": null,
      "metadata": {
        "id": "PMyVsSVXKNfI"
      },
      "outputs": [],
      "source": [
        "(x_train,y_train),(x_test,y_test)= tf.keras.datasets.mnist.load_data()"
      ]
    },
    {
      "cell_type": "code",
      "execution_count": null,
      "metadata": {
        "colab": {
          "base_uri": "https://localhost:8080/"
        },
        "id": "kYrX-NiFLm9Z",
        "outputId": "25c8383d-c48f-425d-cda1-275a387195e0"
      },
      "outputs": [
        {
          "name": "stdout",
          "output_type": "stream",
          "text": [
            "x_train: (60000, 28, 28) y_train: (60000,)\n",
            "x_test: (10000, 28, 28) y_test: (10000,)\n"
          ]
        }
      ],
      "source": [
        "print('x_train:',x_train.shape,'y_train:', y_train.shape)\n",
        "print('x_test:',x_test.shape,'y_test:',y_test.shape)\n"
      ]
    },
    {
      "cell_type": "markdown",
      "metadata": {
        "id": "E_S5DPuHMYGA"
      },
      "source": [
        "Modificación del tamaño de x_train y x_test"
      ]
    },
    {
      "cell_type": "code",
      "execution_count": null,
      "metadata": {
        "id": "AA15Bn77Lfxx"
      },
      "outputs": [],
      "source": [
        "x_train = x_train.reshape((len(x_train), x_train.shape[1]*x_train.shape[2]))\n",
        "x_test = x_test.reshape((len(x_test), x_test.shape[1]*x_test.shape[2]))"
      ]
    },
    {
      "cell_type": "code",
      "execution_count": null,
      "metadata": {
        "colab": {
          "base_uri": "https://localhost:8080/"
        },
        "id": "xm8pVbD3Mw75",
        "outputId": "01f14132-c0d8-4713-f0f7-4c828bf1c8e5"
      },
      "outputs": [
        {
          "name": "stdout",
          "output_type": "stream",
          "text": [
            "x_train: (60000, 784)\n",
            "x_test: (10000, 784)\n"
          ]
        }
      ],
      "source": [
        "print('x_train:',x_train.shape)\n",
        "print('x_test:',x_test.shape)"
      ]
    },
    {
      "cell_type": "markdown",
      "metadata": {
        "id": "qDi6MuaMNsuQ"
      },
      "source": [
        "Normalización"
      ]
    },
    {
      "cell_type": "code",
      "execution_count": null,
      "metadata": {
        "colab": {
          "base_uri": "https://localhost:8080/"
        },
        "id": "ef_Zb8k-NUOU",
        "outputId": "1ee40377-7c91-4f4f-99d7-630b05566ea1"
      },
      "outputs": [
        {
          "name": "stdout",
          "output_type": "stream",
          "text": [
            "x_train max: 255\n",
            "x_train min: 0\n"
          ]
        }
      ],
      "source": [
        "print('x_train max:',x_train.max())\n",
        "print('x_train min:',x_train.min())"
      ]
    },
    {
      "cell_type": "code",
      "execution_count": null,
      "metadata": {
        "colab": {
          "base_uri": "https://localhost:8080/"
        },
        "id": "GxCv-lhpN1n0",
        "outputId": "52fc7d26-2c98-4bc5-8333-bde21b756a4f"
      },
      "outputs": [
        {
          "name": "stdout",
          "output_type": "stream",
          "text": [
            "x_test max: 255\n",
            "x_test min: 0\n"
          ]
        }
      ],
      "source": [
        "print('x_test max:',x_test.max())\n",
        "print('x_test min:',x_test.min())"
      ]
    },
    {
      "cell_type": "code",
      "execution_count": null,
      "metadata": {
        "colab": {
          "base_uri": "https://localhost:8080/"
        },
        "id": "PLfwm6O9N9U1",
        "outputId": "02fea9f8-9824-4f76-c486-ca32fba2534e"
      },
      "outputs": [
        {
          "name": "stdout",
          "output_type": "stream",
          "text": [
            "x_train max: 1.0\n",
            "x_train min: 0.0\n"
          ]
        }
      ],
      "source": [
        "x_train = x_train/255.0\n",
        "print('x_train max:',x_train.max())\n",
        "print('x_train min:',x_train.min())"
      ]
    },
    {
      "cell_type": "code",
      "execution_count": null,
      "metadata": {
        "colab": {
          "base_uri": "https://localhost:8080/"
        },
        "id": "EbyQQn_TOlEJ",
        "outputId": "834a2d85-e7f2-43f2-f4c9-5c025edf3550"
      },
      "outputs": [
        {
          "name": "stdout",
          "output_type": "stream",
          "text": [
            "x_test max: 1.0\n",
            "x_test min: 0.0\n"
          ]
        }
      ],
      "source": [
        "x_test =x_test/ 255.0\n",
        "print('x_test max:',x_test.max())\n",
        "print('x_test min:',x_test.min())"
      ]
    },
    {
      "cell_type": "markdown",
      "metadata": {
        "id": "3xk5Jcl7PmwF"
      },
      "source": [
        "División del dataset"
      ]
    },
    {
      "cell_type": "code",
      "execution_count": null,
      "metadata": {
        "id": "I9XPHJ4LPn2f"
      },
      "outputs": [],
      "source": [
        "x_train, x_val, y_train, y_val = train_test_split(x_train, y_train, train_size = 0.8)"
      ]
    },
    {
      "cell_type": "code",
      "execution_count": null,
      "metadata": {
        "colab": {
          "base_uri": "https://localhost:8080/"
        },
        "id": "x9PP4N05QEBR",
        "outputId": "0e183aaa-3ae5-4ede-d222-31b62138ba44"
      },
      "outputs": [
        {
          "name": "stdout",
          "output_type": "stream",
          "text": [
            "x_train: (48000, 784)\n",
            "x_val: (12000, 784)\n",
            "x_test: (10000, 784)\n",
            "\n",
            "y_train: (48000,)\n",
            "y_val: (12000,)\n",
            "y_test: (10000,)\n"
          ]
        }
      ],
      "source": [
        "print('x_train:', x_train.shape)\n",
        "print('x_val:', x_val.shape) \n",
        "print('x_test:', x_test.shape)\n",
        "print(\"\")\n",
        "print('y_train:', y_train.shape) \n",
        "print('y_val:',y_val.shape)  \n",
        "print('y_test:',y_test.shape)"
      ]
    },
    {
      "cell_type": "markdown",
      "metadata": {
        "id": "7m19osIPQc33"
      },
      "source": [
        "Cambiando etiquetas a codificacion \"one hot\""
      ]
    },
    {
      "cell_type": "code",
      "execution_count": null,
      "metadata": {
        "colab": {
          "base_uri": "https://localhost:8080/"
        },
        "id": "MtBsivs6cMwm",
        "outputId": "59a7f0f0-3f30-4cbb-e5c5-929e7f95b7ff"
      },
      "outputs": [
        {
          "name": "stdout",
          "output_type": "stream",
          "text": [
            "1\n"
          ]
        }
      ],
      "source": [
        "print(y_train[100])"
      ]
    },
    {
      "cell_type": "code",
      "execution_count": null,
      "metadata": {
        "id": "2gJz-v0Ob1w-"
      },
      "outputs": [],
      "source": [
        "y_train = to_categorical(y_train, 10)\n",
        "y_val = to_categorical(y_val, 10)\n",
        "y_test = to_categorical(y_test, 10)"
      ]
    },
    {
      "cell_type": "code",
      "execution_count": null,
      "metadata": {
        "colab": {
          "base_uri": "https://localhost:8080/"
        },
        "id": "49S4rfFfcEDU",
        "outputId": "5946c476-512e-454f-a525-492807289c06"
      },
      "outputs": [
        {
          "name": "stdout",
          "output_type": "stream",
          "text": [
            "[0. 1. 0. 0. 0. 0. 0. 0. 0. 0.]\n"
          ]
        }
      ],
      "source": [
        "print(y_train[100])"
      ]
    },
    {
      "cell_type": "markdown",
      "metadata": {
        "id": "6qEfUT1usZrd"
      },
      "source": [
        "Definición de los modelos en keras"
      ]
    },
    {
      "cell_type": "code",
      "execution_count": null,
      "metadata": {
        "id": "T66rGyvRKzOO"
      },
      "outputs": [],
      "source": [
        "model = Sequential()\n",
        "model.add(Dense(2, input_shape=(784,), activation='sigmoid'))\n",
        "model.add(Dense(8, activation='sigmoid'))\n",
        "model.add(Dense(16, activation='sigmoid'))\n",
        "model.add(Dense(32, activation='sigmoid'))\n",
        "model.add(Dense(10, activation='softmax'))"
      ]
    },
    {
      "cell_type": "markdown",
      "metadata": {
        "id": "2GIBae_no9q4"
      },
      "source": [
        "#### Primera prueba Perceptron Multicapa"
      ]
    },
    {
      "cell_type": "code",
      "execution_count": null,
      "metadata": {
        "id": "uJrESkeJKy5M"
      },
      "outputs": [],
      "source": [
        "from tensorflow.keras.layers import Input\n",
        "from tensorflow.keras.models import Model"
      ]
    },
    {
      "cell_type": "code",
      "execution_count": null,
      "metadata": {
        "id": "C3jYEQOfK3nj"
      },
      "outputs": [],
      "source": [
        "inputs = Input(shape=(784,)) #x_train(48000,784)\n",
        "x = Dense(32, activation='sigmoid')(inputs)\n",
        "x = Dense(32, activation='sigmoid')(x)\n",
        "x = Dense(16, activation='sigmoid')(x)\n",
        "x = Dense(10, activation='softmax')(x)\n",
        "\n",
        "model=Model(inputs=inputs,outputs=x)"
      ]
    },
    {
      "cell_type": "code",
      "execution_count": null,
      "metadata": {
        "colab": {
          "base_uri": "https://localhost:8080/"
        },
        "id": "MKzoVFdmK5XH",
        "outputId": "a44960f4-c517-4d83-fce0-c2ab9bffe91e"
      },
      "outputs": [
        {
          "name": "stdout",
          "output_type": "stream",
          "text": [
            "Model: \"model_5\"\n",
            "_________________________________________________________________\n",
            " Layer (type)                Output Shape              Param #   \n",
            "=================================================================\n",
            " input_6 (InputLayer)        [(None, 784)]             0         \n",
            "                                                                 \n",
            " dense_27 (Dense)            (None, 32)                25120     \n",
            "                                                                 \n",
            " dense_28 (Dense)            (None, 32)                1056      \n",
            "                                                                 \n",
            " dense_29 (Dense)            (None, 16)                528       \n",
            "                                                                 \n",
            " dense_30 (Dense)            (None, 10)                170       \n",
            "                                                                 \n",
            "=================================================================\n",
            "Total params: 26,874\n",
            "Trainable params: 26,874\n",
            "Non-trainable params: 0\n",
            "_________________________________________________________________\n"
          ]
        }
      ],
      "source": [
        "model.summary()"
      ]
    },
    {
      "cell_type": "code",
      "execution_count": null,
      "metadata": {
        "id": "7-8I1Ie7K9MK"
      },
      "outputs": [],
      "source": [
        "model.compile(loss='categorical_crossentropy',optimizer = tf.keras.optimizers.SGD(learning_rate =0.5),metrics=['accuracy'])"
      ]
    },
    {
      "cell_type": "code",
      "execution_count": null,
      "metadata": {
        "colab": {
          "base_uri": "https://localhost:8080/"
        },
        "id": "Q_JuvVveK-7T",
        "outputId": "56f3617f-8bb1-4cfb-b3fc-75f539b24ffe"
      },
      "outputs": [
        {
          "name": "stdout",
          "output_type": "stream",
          "text": [
            "Epoch 1/20\n",
            "4000/4000 [==============================] - 9s 2ms/step - loss: 0.5831 - accuracy: 0.8117 - val_loss: 0.2570 - val_accuracy: 0.9250\n",
            "Epoch 2/20\n",
            "4000/4000 [==============================] - 7s 2ms/step - loss: 0.2081 - accuracy: 0.9395 - val_loss: 0.1671 - val_accuracy: 0.9532\n",
            "Epoch 3/20\n",
            "4000/4000 [==============================] - 8s 2ms/step - loss: 0.1685 - accuracy: 0.9495 - val_loss: 0.1829 - val_accuracy: 0.9454\n",
            "Epoch 4/20\n",
            "4000/4000 [==============================] - 8s 2ms/step - loss: 0.1426 - accuracy: 0.9568 - val_loss: 0.1461 - val_accuracy: 0.9572\n",
            "Epoch 5/20\n",
            "4000/4000 [==============================] - 8s 2ms/step - loss: 0.1258 - accuracy: 0.9627 - val_loss: 0.1558 - val_accuracy: 0.9528\n",
            "Epoch 6/20\n",
            "4000/4000 [==============================] - 8s 2ms/step - loss: 0.1162 - accuracy: 0.9655 - val_loss: 0.1401 - val_accuracy: 0.9592\n",
            "Epoch 7/20\n",
            "4000/4000 [==============================] - 7s 2ms/step - loss: 0.1060 - accuracy: 0.9678 - val_loss: 0.1443 - val_accuracy: 0.9579\n",
            "Epoch 8/20\n",
            "4000/4000 [==============================] - 8s 2ms/step - loss: 0.0981 - accuracy: 0.9703 - val_loss: 0.1393 - val_accuracy: 0.9588\n",
            "Epoch 9/20\n",
            "4000/4000 [==============================] - 8s 2ms/step - loss: 0.0938 - accuracy: 0.9717 - val_loss: 0.1400 - val_accuracy: 0.9602\n",
            "Epoch 10/20\n",
            "4000/4000 [==============================] - 8s 2ms/step - loss: 0.0860 - accuracy: 0.9733 - val_loss: 0.1458 - val_accuracy: 0.9593\n",
            "Epoch 11/20\n",
            "4000/4000 [==============================] - 8s 2ms/step - loss: 0.0841 - accuracy: 0.9734 - val_loss: 0.1499 - val_accuracy: 0.9587\n",
            "Epoch 12/20\n",
            "4000/4000 [==============================] - 7s 2ms/step - loss: 0.0792 - accuracy: 0.9755 - val_loss: 0.1614 - val_accuracy: 0.9567\n",
            "Epoch 13/20\n",
            "4000/4000 [==============================] - 7s 2ms/step - loss: 0.0741 - accuracy: 0.9769 - val_loss: 0.1514 - val_accuracy: 0.9595\n",
            "Epoch 14/20\n",
            "4000/4000 [==============================] - 8s 2ms/step - loss: 0.0682 - accuracy: 0.9782 - val_loss: 0.1513 - val_accuracy: 0.9607\n",
            "Epoch 15/20\n",
            "4000/4000 [==============================] - 7s 2ms/step - loss: 0.0658 - accuracy: 0.9793 - val_loss: 0.1564 - val_accuracy: 0.9583\n",
            "Epoch 16/20\n",
            "4000/4000 [==============================] - 8s 2ms/step - loss: 0.0662 - accuracy: 0.9794 - val_loss: 0.1569 - val_accuracy: 0.9575\n",
            "Epoch 17/20\n",
            "4000/4000 [==============================] - 7s 2ms/step - loss: 0.0621 - accuracy: 0.9796 - val_loss: 0.1727 - val_accuracy: 0.9542\n",
            "Epoch 18/20\n",
            "4000/4000 [==============================] - 8s 2ms/step - loss: 0.0612 - accuracy: 0.9806 - val_loss: 0.1582 - val_accuracy: 0.9592\n",
            "Epoch 19/20\n",
            "4000/4000 [==============================] - 8s 2ms/step - loss: 0.0554 - accuracy: 0.9827 - val_loss: 0.1563 - val_accuracy: 0.9597\n",
            "Epoch 20/20\n",
            "4000/4000 [==============================] - 8s 2ms/step - loss: 0.0553 - accuracy: 0.9834 - val_loss: 0.1675 - val_accuracy: 0.9578\n"
          ]
        },
        {
          "data": {
            "text/plain": [
              "<keras.callbacks.History at 0x7efd9c800650>"
            ]
          },
          "execution_count": 73,
          "metadata": {},
          "output_type": "execute_result"
        }
      ],
      "source": [
        "model.fit(x_train, y_train, validation_data = (x_val, y_val), epochs=20, batch_size=12, verbose=1)"
      ]
    },
    {
      "cell_type": "markdown",
      "metadata": {
        "id": "KXYhLrY6iLxr"
      },
      "source": [
        "Predicciones del modelo"
      ]
    },
    {
      "cell_type": "code",
      "execution_count": null,
      "metadata": {
        "colab": {
          "base_uri": "https://localhost:8080/"
        },
        "id": "JaoBg08PLJwl",
        "outputId": "8f1f3f69-8b46-4152-afc1-2e14480ae153"
      },
      "outputs": [
        {
          "name": "stdout",
          "output_type": "stream",
          "text": [
            "[[1.05968596e-07 1.83027078e-04 3.08313320e-04 ... 9.99110043e-01\n",
            "  2.88693141e-08 2.10481114e-04]\n",
            " [6.22942825e-05 1.83497046e-04 9.99331236e-01 ... 2.41789371e-06\n",
            "  3.62135361e-05 9.05910486e-11]\n",
            " [1.71060138e-10 9.99910474e-01 9.93273079e-06 ... 4.25664803e-05\n",
            "  5.41349664e-06 1.79108355e-08]\n",
            " ...\n",
            " [5.50099855e-07 4.05734454e-06 8.25652478e-06 ... 4.97864448e-06\n",
            "  1.10747021e-06 6.14613236e-05]\n",
            " [3.23525484e-07 1.10105830e-05 1.49517575e-07 ... 3.51190323e-07\n",
            "  8.38572032e-06 1.77442616e-05]\n",
            " [3.01478631e-05 1.03422042e-06 1.46400794e-07 ... 2.94885338e-10\n",
            "  1.49648861e-06 6.36958433e-08]]\n",
            "(10000, 10)\n",
            " \n",
            "[7 2 1 ... 4 5 6]\n",
            "(10000,)\n"
          ]
        }
      ],
      "source": [
        "pred = model.predict(x_test)\n",
        "print(pred)\n",
        "print(pred.shape)\n",
        "print(\" \")\n",
        "pred = np.argmax(pred,axis=1) #nos da el indice de un elemento de un vector máximo \n",
        "print(pred)\n",
        "print(pred.shape)\n",
        "label=np.argmax(y_test,axis=1)"
      ]
    },
    {
      "cell_type": "markdown",
      "metadata": {
        "id": "mmZYEzaqf-lU"
      },
      "source": [
        "Evaluación de la red entrenada"
      ]
    },
    {
      "cell_type": "code",
      "execution_count": null,
      "metadata": {
        "colab": {
          "base_uri": "https://localhost:8080/"
        },
        "id": "KMhRjGmif3WE",
        "outputId": "e364b829-16d5-42b3-f619-fc0991890f9e"
      },
      "outputs": [
        {
          "name": "stdout",
          "output_type": "stream",
          "text": [
            "Test loss: 0.16286161541938782\n",
            "Test accuracy: 0.9599000215530396\n"
          ]
        }
      ],
      "source": [
        "score = model.evaluate(x_test, y_test, verbose=0)\n",
        "print(\"Test loss:\", score[0])\n",
        "print(\"Test accuracy:\", score[1])"
      ]
    },
    {
      "cell_type": "markdown",
      "metadata": {
        "id": "tRJrUHLsozly"
      },
      "source": [
        "#### Segunda Prueba Perceptron Multicapa "
      ]
    },
    {
      "cell_type": "code",
      "execution_count": null,
      "metadata": {
        "id": "yKUDa6UBoWJz"
      },
      "outputs": [],
      "source": [
        "inputs = Input(shape=(784,)) #x_train(48000,784)\n",
        "x = Dense(32, activation='sigmoid')(inputs)\n",
        "x = Dense(64, activation='sigmoid')(x)\n",
        "x = Dense(32, activation='sigmoid')(x)\n",
        "x = Dense(10, activation='softmax')(x)\n",
        "\n",
        "model=Model(inputs=inputs,outputs=x)"
      ]
    },
    {
      "cell_type": "code",
      "execution_count": null,
      "metadata": {
        "colab": {
          "base_uri": "https://localhost:8080/"
        },
        "id": "DLmCa513oeHf",
        "outputId": "fb1b6aab-fcf7-48d4-b456-d7fea3a73e3c"
      },
      "outputs": [
        {
          "name": "stdout",
          "output_type": "stream",
          "text": [
            "Model: \"model_6\"\n",
            "_________________________________________________________________\n",
            " Layer (type)                Output Shape              Param #   \n",
            "=================================================================\n",
            " input_7 (InputLayer)        [(None, 784)]             0         \n",
            "                                                                 \n",
            " dense_31 (Dense)            (None, 32)                25120     \n",
            "                                                                 \n",
            " dense_32 (Dense)            (None, 64)                2112      \n",
            "                                                                 \n",
            " dense_33 (Dense)            (None, 32)                2080      \n",
            "                                                                 \n",
            " dense_34 (Dense)            (None, 10)                330       \n",
            "                                                                 \n",
            "=================================================================\n",
            "Total params: 29,642\n",
            "Trainable params: 29,642\n",
            "Non-trainable params: 0\n",
            "_________________________________________________________________\n"
          ]
        }
      ],
      "source": [
        "model.summary()"
      ]
    },
    {
      "cell_type": "code",
      "execution_count": null,
      "metadata": {
        "id": "UoPI12S2ok7H"
      },
      "outputs": [],
      "source": [
        "model.compile(loss='categorical_crossentropy',optimizer = tf.keras.optimizers.SGD(learning_rate =0.5),metrics=['accuracy'])"
      ]
    },
    {
      "cell_type": "code",
      "execution_count": null,
      "metadata": {
        "colab": {
          "base_uri": "https://localhost:8080/"
        },
        "id": "zcAOwOKeoqKG",
        "outputId": "7f68dfb2-2cbc-4001-a73f-0f489e53c648"
      },
      "outputs": [
        {
          "name": "stdout",
          "output_type": "stream",
          "text": [
            "Epoch 1/20\n",
            "375/375 [==============================] - 2s 4ms/step - loss: 1.9067 - accuracy: 0.3204 - val_loss: 1.0586 - val_accuracy: 0.6601\n",
            "Epoch 2/20\n",
            "375/375 [==============================] - 2s 4ms/step - loss: 0.6757 - accuracy: 0.8048 - val_loss: 0.4699 - val_accuracy: 0.8731\n",
            "Epoch 3/20\n",
            "375/375 [==============================] - 1s 4ms/step - loss: 0.3943 - accuracy: 0.8898 - val_loss: 0.3178 - val_accuracy: 0.9132\n",
            "Epoch 4/20\n",
            "375/375 [==============================] - 1s 3ms/step - loss: 0.2906 - accuracy: 0.9191 - val_loss: 0.2737 - val_accuracy: 0.9222\n",
            "Epoch 5/20\n",
            "375/375 [==============================] - 1s 3ms/step - loss: 0.2373 - accuracy: 0.9323 - val_loss: 0.2158 - val_accuracy: 0.9393\n",
            "Epoch 6/20\n",
            "375/375 [==============================] - 1s 3ms/step - loss: 0.2053 - accuracy: 0.9409 - val_loss: 0.1939 - val_accuracy: 0.9463\n",
            "Epoch 7/20\n",
            "375/375 [==============================] - 1s 3ms/step - loss: 0.1815 - accuracy: 0.9482 - val_loss: 0.1812 - val_accuracy: 0.9484\n",
            "Epoch 8/20\n",
            "375/375 [==============================] - 1s 3ms/step - loss: 0.1638 - accuracy: 0.9533 - val_loss: 0.1796 - val_accuracy: 0.9491\n",
            "Epoch 9/20\n",
            "375/375 [==============================] - 1s 3ms/step - loss: 0.1496 - accuracy: 0.9567 - val_loss: 0.1958 - val_accuracy: 0.9422\n",
            "Epoch 10/20\n",
            "375/375 [==============================] - 1s 3ms/step - loss: 0.1381 - accuracy: 0.9599 - val_loss: 0.1482 - val_accuracy: 0.9578\n",
            "Epoch 11/20\n",
            "375/375 [==============================] - 1s 4ms/step - loss: 0.1287 - accuracy: 0.9628 - val_loss: 0.1491 - val_accuracy: 0.9560\n",
            "Epoch 12/20\n",
            "375/375 [==============================] - 2s 4ms/step - loss: 0.1214 - accuracy: 0.9639 - val_loss: 0.1542 - val_accuracy: 0.9552\n",
            "Epoch 13/20\n",
            "375/375 [==============================] - 1s 4ms/step - loss: 0.1131 - accuracy: 0.9672 - val_loss: 0.1423 - val_accuracy: 0.9572\n",
            "Epoch 14/20\n",
            "375/375 [==============================] - 1s 3ms/step - loss: 0.1072 - accuracy: 0.9678 - val_loss: 0.1340 - val_accuracy: 0.9598\n",
            "Epoch 15/20\n",
            "375/375 [==============================] - 1s 3ms/step - loss: 0.1017 - accuracy: 0.9700 - val_loss: 0.1310 - val_accuracy: 0.9609\n",
            "Epoch 16/20\n",
            "375/375 [==============================] - 1s 3ms/step - loss: 0.0974 - accuracy: 0.9713 - val_loss: 0.1284 - val_accuracy: 0.9618\n",
            "Epoch 17/20\n",
            "375/375 [==============================] - 1s 3ms/step - loss: 0.0921 - accuracy: 0.9730 - val_loss: 0.1378 - val_accuracy: 0.9601\n",
            "Epoch 18/20\n",
            "375/375 [==============================] - 1s 3ms/step - loss: 0.0872 - accuracy: 0.9743 - val_loss: 0.1384 - val_accuracy: 0.9589\n",
            "Epoch 19/20\n",
            "375/375 [==============================] - 1s 3ms/step - loss: 0.0833 - accuracy: 0.9753 - val_loss: 0.1414 - val_accuracy: 0.9568\n",
            "Epoch 20/20\n",
            "375/375 [==============================] - 1s 3ms/step - loss: 0.0813 - accuracy: 0.9760 - val_loss: 0.1420 - val_accuracy: 0.9586\n"
          ]
        },
        {
          "data": {
            "text/plain": [
              "<keras.callbacks.History at 0x7efd9a2c7d10>"
            ]
          },
          "execution_count": 79,
          "metadata": {},
          "output_type": "execute_result"
        }
      ],
      "source": [
        "model.fit(x_train, y_train, validation_data = (x_val, y_val), epochs=20, batch_size=128, verbose=1)"
      ]
    },
    {
      "cell_type": "markdown",
      "metadata": {
        "id": "GRazXbKwhzTI"
      },
      "source": [
        "Evaluación de la red entrenada"
      ]
    },
    {
      "cell_type": "code",
      "execution_count": null,
      "metadata": {
        "colab": {
          "base_uri": "https://localhost:8080/"
        },
        "id": "kloVViKJoyVE",
        "outputId": "20e9130a-7ef9-4a0a-fda6-1685fb87cf27"
      },
      "outputs": [
        {
          "name": "stdout",
          "output_type": "stream",
          "text": [
            "Test loss: 0.14843115210533142\n",
            "Test accuracy: 0.9545000195503235\n"
          ]
        }
      ],
      "source": [
        "score = model.evaluate(x_test, y_test, verbose=0)\n",
        "print(\"Test loss:\", score[0])\n",
        "print(\"Test accuracy:\", score[1])"
      ]
    },
    {
      "cell_type": "markdown",
      "metadata": {
        "id": "UiFw9ZfjsoVo"
      },
      "source": [
        "#### Tercera Prueba Perceptron Multicapa"
      ]
    },
    {
      "cell_type": "code",
      "execution_count": null,
      "metadata": {
        "id": "IsPxhhKlstMh"
      },
      "outputs": [],
      "source": [
        "inputs = Input(shape=(784,)) #x_train(48000,784)\n",
        "x = Dense(32, activation='sigmoid')(inputs)\n",
        "x = Dense(32, activation='sigmoid')(x)\n",
        "x = Dense(10, activation='softmax')(x)\n",
        "\n",
        "model=Model(inputs=inputs,outputs=x)"
      ]
    },
    {
      "cell_type": "code",
      "execution_count": null,
      "metadata": {
        "colab": {
          "base_uri": "https://localhost:8080/"
        },
        "id": "ujPYXhqHs3Dj",
        "outputId": "1f638d2f-4888-4ae7-ed05-fa0da33700d2"
      },
      "outputs": [
        {
          "name": "stdout",
          "output_type": "stream",
          "text": [
            "Model: \"model_7\"\n",
            "_________________________________________________________________\n",
            " Layer (type)                Output Shape              Param #   \n",
            "=================================================================\n",
            " input_8 (InputLayer)        [(None, 784)]             0         \n",
            "                                                                 \n",
            " dense_35 (Dense)            (None, 32)                25120     \n",
            "                                                                 \n",
            " dense_36 (Dense)            (None, 32)                1056      \n",
            "                                                                 \n",
            " dense_37 (Dense)            (None, 10)                330       \n",
            "                                                                 \n",
            "=================================================================\n",
            "Total params: 26,506\n",
            "Trainable params: 26,506\n",
            "Non-trainable params: 0\n",
            "_________________________________________________________________\n"
          ]
        }
      ],
      "source": [
        "model.summary()"
      ]
    },
    {
      "cell_type": "code",
      "execution_count": null,
      "metadata": {
        "id": "sGZn6u0TtA3a"
      },
      "outputs": [],
      "source": [
        "model.compile(loss='categorical_crossentropy',optimizer = tf.keras.optimizers.SGD(learning_rate =0.5),metrics=['accuracy'])"
      ]
    },
    {
      "cell_type": "code",
      "execution_count": null,
      "metadata": {
        "colab": {
          "base_uri": "https://localhost:8080/"
        },
        "id": "dyqG9WHVtHFc",
        "outputId": "5ea78928-a2ac-4dcf-bb9c-ce4ebaf157eb"
      },
      "outputs": [
        {
          "name": "stdout",
          "output_type": "stream",
          "text": [
            "Epoch 1/20\n",
            "375/375 [==============================] - 2s 4ms/step - loss: 1.0729 - accuracy: 0.6876 - val_loss: 0.4663 - val_accuracy: 0.8723\n",
            "Epoch 2/20\n",
            "375/375 [==============================] - 1s 3ms/step - loss: 0.3766 - accuracy: 0.8956 - val_loss: 0.3184 - val_accuracy: 0.9107\n",
            "Epoch 3/20\n",
            "375/375 [==============================] - 1s 3ms/step - loss: 0.2831 - accuracy: 0.9193 - val_loss: 0.2563 - val_accuracy: 0.9298\n",
            "Epoch 4/20\n",
            "375/375 [==============================] - 1s 3ms/step - loss: 0.2326 - accuracy: 0.9329 - val_loss: 0.2171 - val_accuracy: 0.9396\n",
            "Epoch 5/20\n",
            "375/375 [==============================] - 1s 3ms/step - loss: 0.1993 - accuracy: 0.9417 - val_loss: 0.1946 - val_accuracy: 0.9441\n",
            "Epoch 6/20\n",
            "375/375 [==============================] - 1s 3ms/step - loss: 0.1758 - accuracy: 0.9486 - val_loss: 0.1751 - val_accuracy: 0.9508\n",
            "Epoch 7/20\n",
            "375/375 [==============================] - 1s 3ms/step - loss: 0.1580 - accuracy: 0.9542 - val_loss: 0.1646 - val_accuracy: 0.9513\n",
            "Epoch 8/20\n",
            "375/375 [==============================] - 1s 3ms/step - loss: 0.1439 - accuracy: 0.9578 - val_loss: 0.1529 - val_accuracy: 0.9566\n",
            "Epoch 9/20\n",
            "375/375 [==============================] - 1s 3ms/step - loss: 0.1333 - accuracy: 0.9613 - val_loss: 0.1490 - val_accuracy: 0.9572\n",
            "Epoch 10/20\n",
            "375/375 [==============================] - 1s 3ms/step - loss: 0.1243 - accuracy: 0.9635 - val_loss: 0.1410 - val_accuracy: 0.9597\n",
            "Epoch 11/20\n",
            "375/375 [==============================] - 1s 4ms/step - loss: 0.1165 - accuracy: 0.9659 - val_loss: 0.1345 - val_accuracy: 0.9624\n",
            "Epoch 12/20\n",
            "375/375 [==============================] - 1s 4ms/step - loss: 0.1094 - accuracy: 0.9680 - val_loss: 0.1319 - val_accuracy: 0.9612\n",
            "Epoch 13/20\n",
            "375/375 [==============================] - 1s 3ms/step - loss: 0.1040 - accuracy: 0.9696 - val_loss: 0.1309 - val_accuracy: 0.9627\n",
            "Epoch 14/20\n",
            "375/375 [==============================] - 1s 4ms/step - loss: 0.0987 - accuracy: 0.9716 - val_loss: 0.1241 - val_accuracy: 0.9648\n",
            "Epoch 15/20\n",
            "375/375 [==============================] - 1s 3ms/step - loss: 0.0946 - accuracy: 0.9724 - val_loss: 0.1229 - val_accuracy: 0.9654\n",
            "Epoch 16/20\n",
            "375/375 [==============================] - 1s 3ms/step - loss: 0.0895 - accuracy: 0.9736 - val_loss: 0.1232 - val_accuracy: 0.9645\n",
            "Epoch 17/20\n",
            "375/375 [==============================] - 1s 3ms/step - loss: 0.0857 - accuracy: 0.9751 - val_loss: 0.1226 - val_accuracy: 0.9647\n",
            "Epoch 18/20\n",
            "375/375 [==============================] - 1s 3ms/step - loss: 0.0822 - accuracy: 0.9755 - val_loss: 0.1189 - val_accuracy: 0.9668\n",
            "Epoch 19/20\n",
            "375/375 [==============================] - 1s 4ms/step - loss: 0.0788 - accuracy: 0.9774 - val_loss: 0.1185 - val_accuracy: 0.9669\n",
            "Epoch 20/20\n",
            "375/375 [==============================] - 1s 3ms/step - loss: 0.0763 - accuracy: 0.9777 - val_loss: 0.1176 - val_accuracy: 0.9668\n"
          ]
        },
        {
          "data": {
            "text/plain": [
              "<keras.callbacks.History at 0x7efd9a1895d0>"
            ]
          },
          "execution_count": 84,
          "metadata": {},
          "output_type": "execute_result"
        }
      ],
      "source": [
        "model.fit(x_train, y_train, validation_data = (x_val, y_val), epochs=20, batch_size=128, verbose=1)"
      ]
    },
    {
      "cell_type": "markdown",
      "metadata": {
        "id": "OP2gGWQgh1M7"
      },
      "source": [
        "Evaluación de la red entrenada"
      ]
    },
    {
      "cell_type": "code",
      "execution_count": null,
      "metadata": {
        "colab": {
          "base_uri": "https://localhost:8080/"
        },
        "id": "UhOw4Ty4tNAz",
        "outputId": "29fb65fb-a769-4000-8e74-7fc0bc4b173d"
      },
      "outputs": [
        {
          "name": "stdout",
          "output_type": "stream",
          "text": [
            "Test loss: 0.11562632024288177\n",
            "Test accuracy: 0.9646000266075134\n"
          ]
        }
      ],
      "source": [
        "score = model.evaluate(x_test, y_test, verbose=0)\n",
        "print(\"Test loss:\", score[0])\n",
        "print(\"Test accuracy:\", score[1])"
      ]
    },
    {
      "cell_type": "markdown",
      "metadata": {
        "id": "4IcrSN-BszN7"
      },
      "source": [
        "#### Cuarta Prueba Perceptron Multicapa"
      ]
    },
    {
      "cell_type": "code",
      "execution_count": null,
      "metadata": {
        "id": "nZf8FCzlsygt"
      },
      "outputs": [],
      "source": [
        "inputs = Input(shape=(784,)) #x_train(48000,784)\n",
        "x = Dense(8, activation='sigmoid')(inputs)\n",
        "x = Dense(32, activation='sigmoid')(x)\n",
        "x = Dense(10, activation='softmax')(x)\n",
        "\n",
        "model=Model(inputs=inputs,outputs=x)"
      ]
    },
    {
      "cell_type": "code",
      "execution_count": null,
      "metadata": {
        "colab": {
          "base_uri": "https://localhost:8080/"
        },
        "id": "Z7IJspcls6v3",
        "outputId": "52c8728f-eb7a-4b5f-9e8b-f8a9f3c932be"
      },
      "outputs": [
        {
          "name": "stdout",
          "output_type": "stream",
          "text": [
            "Model: \"model_8\"\n",
            "_________________________________________________________________\n",
            " Layer (type)                Output Shape              Param #   \n",
            "=================================================================\n",
            " input_9 (InputLayer)        [(None, 784)]             0         \n",
            "                                                                 \n",
            " dense_38 (Dense)            (None, 8)                 6280      \n",
            "                                                                 \n",
            " dense_39 (Dense)            (None, 32)                288       \n",
            "                                                                 \n",
            " dense_40 (Dense)            (None, 10)                330       \n",
            "                                                                 \n",
            "=================================================================\n",
            "Total params: 6,898\n",
            "Trainable params: 6,898\n",
            "Non-trainable params: 0\n",
            "_________________________________________________________________\n"
          ]
        }
      ],
      "source": [
        "model.summary()"
      ]
    },
    {
      "cell_type": "code",
      "execution_count": null,
      "metadata": {
        "id": "8_Vt8Dy2tCna"
      },
      "outputs": [],
      "source": [
        "model.compile(loss='categorical_crossentropy',optimizer = tf.keras.optimizers.SGD(learning_rate =0.5),metrics=['accuracy'])"
      ]
    },
    {
      "cell_type": "code",
      "execution_count": null,
      "metadata": {
        "colab": {
          "base_uri": "https://localhost:8080/"
        },
        "id": "QeT8VXzItHtn",
        "outputId": "a559e883-f2f6-40a4-a221-919e3f7bb056"
      },
      "outputs": [
        {
          "name": "stdout",
          "output_type": "stream",
          "text": [
            "Epoch 1/20\n",
            "3000/3000 [==============================] - 6s 2ms/step - loss: 0.6078 - accuracy: 0.8073 - val_loss: 0.3683 - val_accuracy: 0.8950\n",
            "Epoch 2/20\n",
            "3000/3000 [==============================] - 6s 2ms/step - loss: 0.3526 - accuracy: 0.8958 - val_loss: 0.3530 - val_accuracy: 0.8931\n",
            "Epoch 3/20\n",
            "3000/3000 [==============================] - 6s 2ms/step - loss: 0.3226 - accuracy: 0.9041 - val_loss: 0.3172 - val_accuracy: 0.9080\n",
            "Epoch 4/20\n",
            "3000/3000 [==============================] - 6s 2ms/step - loss: 0.3056 - accuracy: 0.9088 - val_loss: 0.3104 - val_accuracy: 0.9092\n",
            "Epoch 5/20\n",
            "3000/3000 [==============================] - 6s 2ms/step - loss: 0.2981 - accuracy: 0.9117 - val_loss: 0.3003 - val_accuracy: 0.9112\n",
            "Epoch 6/20\n",
            "3000/3000 [==============================] - 6s 2ms/step - loss: 0.2874 - accuracy: 0.9147 - val_loss: 0.3189 - val_accuracy: 0.9082\n",
            "Epoch 7/20\n",
            "3000/3000 [==============================] - 6s 2ms/step - loss: 0.2797 - accuracy: 0.9177 - val_loss: 0.2931 - val_accuracy: 0.9133\n",
            "Epoch 8/20\n",
            "3000/3000 [==============================] - 6s 2ms/step - loss: 0.2766 - accuracy: 0.9176 - val_loss: 0.2969 - val_accuracy: 0.9142\n",
            "Epoch 9/20\n",
            "3000/3000 [==============================] - 6s 2ms/step - loss: 0.2726 - accuracy: 0.9185 - val_loss: 0.3020 - val_accuracy: 0.9137\n",
            "Epoch 10/20\n",
            "3000/3000 [==============================] - 7s 2ms/step - loss: 0.2679 - accuracy: 0.9208 - val_loss: 0.3015 - val_accuracy: 0.9125\n",
            "Epoch 11/20\n",
            "3000/3000 [==============================] - 6s 2ms/step - loss: 0.2625 - accuracy: 0.9223 - val_loss: 0.2951 - val_accuracy: 0.9132\n",
            "Epoch 12/20\n",
            "3000/3000 [==============================] - 6s 2ms/step - loss: 0.2615 - accuracy: 0.9218 - val_loss: 0.3031 - val_accuracy: 0.9104\n",
            "Epoch 13/20\n",
            "3000/3000 [==============================] - 6s 2ms/step - loss: 0.2589 - accuracy: 0.9237 - val_loss: 0.2747 - val_accuracy: 0.9207\n",
            "Epoch 14/20\n",
            "3000/3000 [==============================] - 6s 2ms/step - loss: 0.2540 - accuracy: 0.9258 - val_loss: 0.3003 - val_accuracy: 0.9150\n",
            "Epoch 15/20\n",
            "3000/3000 [==============================] - 6s 2ms/step - loss: 0.2551 - accuracy: 0.9239 - val_loss: 0.2787 - val_accuracy: 0.9184\n",
            "Epoch 16/20\n",
            "3000/3000 [==============================] - 6s 2ms/step - loss: 0.2501 - accuracy: 0.9250 - val_loss: 0.3172 - val_accuracy: 0.9118\n",
            "Epoch 17/20\n",
            "3000/3000 [==============================] - 5s 2ms/step - loss: 0.2501 - accuracy: 0.9252 - val_loss: 0.2865 - val_accuracy: 0.9150\n",
            "Epoch 18/20\n",
            "3000/3000 [==============================] - 6s 2ms/step - loss: 0.2479 - accuracy: 0.9264 - val_loss: 0.2858 - val_accuracy: 0.9202\n",
            "Epoch 19/20\n",
            "3000/3000 [==============================] - 6s 2ms/step - loss: 0.2468 - accuracy: 0.9277 - val_loss: 0.2877 - val_accuracy: 0.9181\n",
            "Epoch 20/20\n",
            "3000/3000 [==============================] - 7s 2ms/step - loss: 0.2455 - accuracy: 0.9279 - val_loss: 0.2803 - val_accuracy: 0.9182\n"
          ]
        },
        {
          "data": {
            "text/plain": [
              "<keras.callbacks.History at 0x7efd9a01e050>"
            ]
          },
          "execution_count": 89,
          "metadata": {},
          "output_type": "execute_result"
        }
      ],
      "source": [
        "model.fit(x_train, y_train, validation_data = (x_val, y_val), epochs=20, batch_size=16, verbose=1)"
      ]
    },
    {
      "cell_type": "markdown",
      "metadata": {
        "id": "1svvlrQFh21u"
      },
      "source": [
        "Evaluación de la red entrenada"
      ]
    },
    {
      "cell_type": "code",
      "execution_count": null,
      "metadata": {
        "colab": {
          "base_uri": "https://localhost:8080/"
        },
        "id": "jDeZ6ZPqtNeF",
        "outputId": "bb1fd881-152a-4dd2-ee05-48f872f85447"
      },
      "outputs": [
        {
          "name": "stdout",
          "output_type": "stream",
          "text": [
            "Test loss: 0.27866315841674805\n",
            "Test accuracy: 0.92330002784729\n"
          ]
        }
      ],
      "source": [
        "score = model.evaluate(x_test, y_test, verbose=0)\n",
        "print(\"Test loss:\", score[0])\n",
        "print(\"Test accuracy:\", score[1])"
      ]
    },
    {
      "cell_type": "markdown",
      "metadata": {
        "id": "duXVxo2RVAml"
      },
      "source": [
        "#### Quinta Prueba Perceptron Multicapa"
      ]
    },
    {
      "cell_type": "code",
      "execution_count": null,
      "metadata": {
        "id": "GBHaDQ7eULTz"
      },
      "outputs": [],
      "source": [
        "inputs = Input(shape=(784,)) #x_train(48000,784)\n",
        "x = Dense(16, activation='sigmoid')(inputs)\n",
        "x = Dense(16, activation='sigmoid')(x)\n",
        "x = Dense(10, activation='softmax')(x)\n",
        "\n",
        "model=Model(inputs=inputs,outputs=x)"
      ]
    },
    {
      "cell_type": "code",
      "execution_count": null,
      "metadata": {
        "colab": {
          "base_uri": "https://localhost:8080/"
        },
        "id": "KZVOICE1h9oV",
        "outputId": "0c51ff29-43fa-43b4-b97b-19878820e0d1"
      },
      "outputs": [
        {
          "name": "stdout",
          "output_type": "stream",
          "text": [
            "Model: \"model_10\"\n",
            "_________________________________________________________________\n",
            " Layer (type)                Output Shape              Param #   \n",
            "=================================================================\n",
            " input_11 (InputLayer)       [(None, 784)]             0         \n",
            "                                                                 \n",
            " dense_44 (Dense)            (None, 16)                12560     \n",
            "                                                                 \n",
            " dense_45 (Dense)            (None, 16)                272       \n",
            "                                                                 \n",
            " dense_46 (Dense)            (None, 10)                170       \n",
            "                                                                 \n",
            "=================================================================\n",
            "Total params: 13,002\n",
            "Trainable params: 13,002\n",
            "Non-trainable params: 0\n",
            "_________________________________________________________________\n"
          ]
        }
      ],
      "source": [
        "model.summary()"
      ]
    },
    {
      "cell_type": "code",
      "execution_count": null,
      "metadata": {
        "id": "HELE1czoUP0q"
      },
      "outputs": [],
      "source": [
        "model.compile(loss='categorical_crossentropy',optimizer = tf.keras.optimizers.SGD(learning_rate =0.5),metrics=['accuracy'])"
      ]
    },
    {
      "cell_type": "code",
      "execution_count": null,
      "metadata": {
        "colab": {
          "base_uri": "https://localhost:8080/"
        },
        "id": "Npj-mKDaUTTo",
        "outputId": "2c0271a1-785c-4073-ab72-25bff8c41a02"
      },
      "outputs": [
        {
          "name": "stdout",
          "output_type": "stream",
          "text": [
            "Epoch 1/20\n",
            "188/188 [==============================] - 1s 4ms/step - loss: 1.7508 - accuracy: 0.4791 - val_loss: 1.0623 - val_accuracy: 0.7448\n",
            "Epoch 2/20\n",
            "188/188 [==============================] - 1s 4ms/step - loss: 0.7694 - accuracy: 0.8172 - val_loss: 0.5736 - val_accuracy: 0.8589\n",
            "Epoch 3/20\n",
            "188/188 [==============================] - 1s 4ms/step - loss: 0.4964 - accuracy: 0.8733 - val_loss: 0.4424 - val_accuracy: 0.8831\n",
            "Epoch 4/20\n",
            "188/188 [==============================] - 1s 4ms/step - loss: 0.4016 - accuracy: 0.8923 - val_loss: 0.3873 - val_accuracy: 0.8911\n",
            "Epoch 5/20\n",
            "188/188 [==============================] - 1s 4ms/step - loss: 0.3514 - accuracy: 0.9036 - val_loss: 0.3360 - val_accuracy: 0.9068\n",
            "Epoch 6/20\n",
            "188/188 [==============================] - 1s 4ms/step - loss: 0.3170 - accuracy: 0.9115 - val_loss: 0.3206 - val_accuracy: 0.9094\n",
            "Epoch 7/20\n",
            "188/188 [==============================] - 1s 4ms/step - loss: 0.2919 - accuracy: 0.9184 - val_loss: 0.2878 - val_accuracy: 0.9190\n",
            "Epoch 8/20\n",
            "188/188 [==============================] - 1s 4ms/step - loss: 0.2713 - accuracy: 0.9233 - val_loss: 0.2690 - val_accuracy: 0.9245\n",
            "Epoch 9/20\n",
            "188/188 [==============================] - 1s 4ms/step - loss: 0.2542 - accuracy: 0.9278 - val_loss: 0.2581 - val_accuracy: 0.9274\n",
            "Epoch 10/20\n",
            "188/188 [==============================] - 1s 3ms/step - loss: 0.2407 - accuracy: 0.9317 - val_loss: 0.2460 - val_accuracy: 0.9303\n",
            "Epoch 11/20\n",
            "188/188 [==============================] - 1s 4ms/step - loss: 0.2298 - accuracy: 0.9348 - val_loss: 0.2397 - val_accuracy: 0.9319\n",
            "Epoch 12/20\n",
            "188/188 [==============================] - 1s 3ms/step - loss: 0.2199 - accuracy: 0.9365 - val_loss: 0.2289 - val_accuracy: 0.9347\n",
            "Epoch 13/20\n",
            "188/188 [==============================] - 1s 3ms/step - loss: 0.2118 - accuracy: 0.9397 - val_loss: 0.2333 - val_accuracy: 0.9328\n",
            "Epoch 14/20\n",
            "188/188 [==============================] - 1s 4ms/step - loss: 0.2046 - accuracy: 0.9419 - val_loss: 0.2271 - val_accuracy: 0.9331\n",
            "Epoch 15/20\n",
            "188/188 [==============================] - 1s 4ms/step - loss: 0.1980 - accuracy: 0.9431 - val_loss: 0.2138 - val_accuracy: 0.9381\n",
            "Epoch 16/20\n",
            "188/188 [==============================] - 1s 4ms/step - loss: 0.1922 - accuracy: 0.9447 - val_loss: 0.2105 - val_accuracy: 0.9396\n",
            "Epoch 17/20\n",
            "188/188 [==============================] - 1s 5ms/step - loss: 0.1873 - accuracy: 0.9465 - val_loss: 0.2065 - val_accuracy: 0.9416\n",
            "Epoch 18/20\n",
            "188/188 [==============================] - 1s 4ms/step - loss: 0.1830 - accuracy: 0.9474 - val_loss: 0.2095 - val_accuracy: 0.9388\n",
            "Epoch 19/20\n",
            "188/188 [==============================] - 1s 4ms/step - loss: 0.1789 - accuracy: 0.9487 - val_loss: 0.2052 - val_accuracy: 0.9415\n",
            "Epoch 20/20\n",
            "188/188 [==============================] - 1s 3ms/step - loss: 0.1752 - accuracy: 0.9492 - val_loss: 0.1980 - val_accuracy: 0.9408\n"
          ]
        },
        {
          "data": {
            "text/plain": [
              "<keras.callbacks.History at 0x7efd99e42f50>"
            ]
          },
          "execution_count": 93,
          "metadata": {},
          "output_type": "execute_result"
        }
      ],
      "source": [
        "model.fit(x_train, y_train, validation_data = (x_val, y_val), epochs=20, batch_size=256, verbose=1)"
      ]
    },
    {
      "cell_type": "markdown",
      "metadata": {
        "id": "A5xBPBuvh4HW"
      },
      "source": [
        "Evaluación de la red entrenada"
      ]
    },
    {
      "cell_type": "code",
      "execution_count": null,
      "metadata": {
        "colab": {
          "base_uri": "https://localhost:8080/"
        },
        "id": "zGbK1PymUlHo",
        "outputId": "992e65f0-ac42-4e84-fdfb-bba8832c5276"
      },
      "outputs": [
        {
          "name": "stdout",
          "output_type": "stream",
          "text": [
            "Test loss: 0.19671088457107544\n",
            "Test accuracy: 0.9448999762535095\n"
          ]
        }
      ],
      "source": [
        "score = model.evaluate(x_test, y_test, verbose=0)\n",
        "print(\"Test loss:\", score[0])\n",
        "print(\"Test accuracy:\", score[1])"
      ]
    },
    {
      "cell_type": "markdown",
      "metadata": {},
      "source": [
        "### Comparación de Resultados"
      ]
    },
    {
      "cell_type": "markdown",
      "metadata": {},
      "source": [
        "<div style=\"text-align: justify;\">\n",
        "En la siguiente tabla se pueden comparan los resultados obtenidos en la evaluación de cada uno de los modelos entrenados, en donde se puede apreciar que cada uno de los modelos tuvieron buenos resultados, aunque entre ellos destaca el modelo 3, el cual obtuvo el mejor resultado.\n",
        "</div>"
      ]
    },
    {
      "attachments": {
        "Comparacion_Resultados.png": {
          "image/png": "[encoded data removed]"
        }
      },
      "cell_type": "markdown",
      "metadata": {},
      "source": [
        "![Comparacion_Resultados.png](attachment:Comparacion_Resultados.png)"
      ]
    },
    {
      "cell_type": "markdown",
      "metadata": {},
      "source": [
        "### Referencias Bibliográficas"
      ]
    },
    {
      "cell_type": "markdown",
      "metadata": {},
      "source": [
        "[1] TensorFlow. Clasificación MNIST. Recuperado el día 05 de Marzo de 2022 de\n",
        "https://www.tensorflow.org/quantum/tutorials/mnist\n",
        "[2] Capitulo 3. Perceptron Multicapa. Recuperado el día 05 de Marzo de 2022 de\n",
        "http://catarina.udlap.mx/u_dl_a/tales/documentos/lep/mejia_s_ja/capitulo3.pdf"
      ]
    }
  ],
  "metadata": {
    "colab": {
      "collapsed_sections": [],
      "name": "Tarea7_Perceptron Multicapa_MNIST_CGRF.ipynb",
      "provenance": []
    },
    "kernelspec": {
      "display_name": "Python 3",
      "name": "python3"
    },
    "language_info": {
      "name": "python"
    }
  },
  "nbformat": 4,
  "nbformat_minor": 0
}
